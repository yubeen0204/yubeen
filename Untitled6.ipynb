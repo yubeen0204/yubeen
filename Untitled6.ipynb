{
  "nbformat": 4,
  "nbformat_minor": 0,
  "metadata": {
    "colab": {
      "provenance": [],
      "authorship_tag": "ABX9TyM8D1Bh5vMmlnD1TfG7D5j3",
      "include_colab_link": true
    },
    "kernelspec": {
      "name": "python3",
      "display_name": "Python 3"
    },
    "language_info": {
      "name": "python"
    }
  },
  "cells": [
    {
      "cell_type": "markdown",
      "metadata": {
        "id": "view-in-github",
        "colab_type": "text"
      },
      "source": [
        "<a href=\"https://colab.research.google.com/github/yubeen0204/yubeen/blob/main/Untitled6.ipynb\" target=\"_parent\"><img src=\"https://colab.research.google.com/assets/colab-badge.svg\" alt=\"Open In Colab\"/></a>"
      ]
    },
    {
      "cell_type": "code",
      "execution_count": 15,
      "metadata": {
        "colab": {
          "base_uri": "https://localhost:8080/"
        },
        "id": "ZIxdH2NnxAzy",
        "outputId": "d9773cf2-771e-453c-8968-47921accc746"
      },
      "outputs": [
        {
          "output_type": "stream",
          "name": "stdout",
          "text": [
            "1\n",
            "2\n",
            "B가 이겼습니다.\n"
          ]
        }
      ],
      "source": [
        "# a와 b가 가위바위보를 하였다.\n",
        "# 가위는 1, 바위는 2, 보는 3으로 표현되며 a와 b가 무엇을 냈는지 입력으로 주어진다. \n",
        "# a와 b중에 누가 이겼는지 판별해보자.\n",
        "# 단 비기는 경우는 없다.\n",
        "\n",
        "A = int(input())\n",
        "B = int(input())\n",
        "\n",
        "if A>B :\n",
        "  print(\"A가 이겼습니다.\")\n",
        "else :\n",
        "  print(\"B가 이겼습니다.\")\n",
        "\n"
      ]
    }
  ]
}