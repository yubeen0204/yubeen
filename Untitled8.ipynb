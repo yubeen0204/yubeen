{
  "nbformat": 4,
  "nbformat_minor": 0,
  "metadata": {
    "colab": {
      "provenance": [],
      "authorship_tag": "ABX9TyPYrdk7AAh1cMq9CsAMzZsU",
      "include_colab_link": true
    },
    "kernelspec": {
      "name": "python3",
      "display_name": "Python 3"
    },
    "language_info": {
      "name": "python"
    }
  },
  "cells": [
    {
      "cell_type": "markdown",
      "metadata": {
        "id": "view-in-github",
        "colab_type": "text"
      },
      "source": [
        "<a href=\"https://colab.research.google.com/github/yubeen0204/yubeen/blob/main/Untitled8.ipynb\" target=\"_parent\"><img src=\"https://colab.research.google.com/assets/colab-badge.svg\" alt=\"Open In Colab\"/></a>"
      ]
    },
    {
      "cell_type": "code",
      "execution_count": 2,
      "metadata": {
        "colab": {
          "base_uri": "https://localhost:8080/"
        },
        "id": "BccnNB4M9Ms5",
        "outputId": "38361cf2-cddd-4bd8-bc70-f6100abd1a3d"
      },
      "outputs": [
        {
          "output_type": "execute_result",
          "data": {
            "text/plain": [
              "dict_values([200, 800, 500, 300])"
            ]
          },
          "metadata": {},
          "execution_count": 2
        }
      ],
      "source": [
        "#어느 문구점에서 판매하는 연필은 200월, 펜은 800원, 지우개는 500원, 자는 300원이다. 이 목록을 dictionary 형을 이용하여 작성해보고 가격만 list형으로 출력해보자.\n",
        "\n",
        "dict={\"연필\":200, \"펜\": 800, \"지우개\": 500, \"자\": 300}\n",
        "dict.values()"
      ]
    }
  ]
}